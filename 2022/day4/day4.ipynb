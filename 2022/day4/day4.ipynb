{
 "cells": [
  {
   "cell_type": "code",
   "execution_count": 75,
   "id": "5d120cd9",
   "metadata": {},
   "outputs": [],
   "source": [
    "with open('input.in', 'r') as f:\n",
    "    data = [l for l in f.read().strip().split('\\n')]"
   ]
  },
  {
   "cell_type": "code",
   "execution_count": 72,
   "id": "5c877b0a",
   "metadata": {
    "scrolled": true
   },
   "outputs": [
    {
     "data": {
      "text/plain": [
       "2"
      ]
     },
     "execution_count": 72,
     "metadata": {},
     "output_type": "execute_result"
    }
   ],
   "source": [
    "count = 0\n",
    "for pair in data:\n",
    "    pair = pair.split(',')\n",
    "    \n",
    "    p1 = pair[0].split('-')\n",
    "    beg1 = p1[0]\n",
    "    end1 = p1[1]\n",
    "    \n",
    "    range1 = [i for i in range(int(end1) + 1)[int(beg1):]]\n",
    "    \n",
    "    p2 = pair[1].split('-')\n",
    "    beg2 = p2[0]\n",
    "    end2 = p2[1]\n",
    "    \n",
    "    range2 = [i for i in range(int(end2) + 1)[int(beg2):]]\n",
    "    \n",
    "    s1 = set(range1)\n",
    "    s2 = set(range2)\n",
    "    \n",
    "    if s1.issubset(s2) \\\n",
    "        or s2.issubset(s1):\n",
    "        count += 1\n",
    "count"
   ]
  },
  {
   "cell_type": "markdown",
   "id": "13b855fa",
   "metadata": {},
   "source": [
    "# Part 2"
   ]
  },
  {
   "cell_type": "code",
   "execution_count": 76,
   "id": "ffe02d28",
   "metadata": {},
   "outputs": [
    {
     "data": {
      "text/plain": [
       "893"
      ]
     },
     "execution_count": 76,
     "metadata": {},
     "output_type": "execute_result"
    }
   ],
   "source": [
    "count = 0\n",
    "for pair in data:\n",
    "    pair = pair.split(',')\n",
    "    \n",
    "    p1 = pair[0].split('-')\n",
    "    beg1 = p1[0]\n",
    "    end1 = p1[1]\n",
    "    \n",
    "    range1 = [i for i in range(int(end1) + 1)[int(beg1):]]\n",
    "    \n",
    "    p2 = pair[1].split('-')\n",
    "    beg2 = p2[0]\n",
    "    end2 = p2[1]\n",
    "    \n",
    "    range2 = [i for i in range(int(end2) + 1)[int(beg2):]]\n",
    "    \n",
    "    s1 = set(range1)\n",
    "    s2 = set(range2)\n",
    "    \n",
    "    for x in s1:\n",
    "        if x in s2:\n",
    "            count += 1\n",
    "            break\n",
    "count"
   ]
  },
  {
   "cell_type": "code",
   "execution_count": null,
   "id": "b400123b",
   "metadata": {},
   "outputs": [],
   "source": []
  }
 ],
 "metadata": {
  "kernelspec": {
   "display_name": "Python 3 (ipykernel)",
   "language": "python",
   "name": "python3"
  },
  "language_info": {
   "codemirror_mode": {
    "name": "ipython",
    "version": 3
   },
   "file_extension": ".py",
   "mimetype": "text/x-python",
   "name": "python",
   "nbconvert_exporter": "python",
   "pygments_lexer": "ipython3",
   "version": "3.9.7"
  }
 },
 "nbformat": 4,
 "nbformat_minor": 5
}
