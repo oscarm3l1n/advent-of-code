{
 "cells": [
  {
   "cell_type": "code",
   "execution_count": 102,
   "id": "100f5f74",
   "metadata": {},
   "outputs": [],
   "source": [
    "tmp = []\n",
    "with open('input.in', 'r') as f:\n",
    "    tmp = f.readlines()"
   ]
  },
  {
   "cell_type": "code",
   "execution_count": 103,
   "id": "91bd0f7e",
   "metadata": {},
   "outputs": [],
   "source": [
    "data = []\n",
    "for line in tmp:\n",
    "    data.append(line.rstrip().split())"
   ]
  },
  {
   "cell_type": "code",
   "execution_count": 108,
   "id": "8432d0a0",
   "metadata": {},
   "outputs": [],
   "source": [
    "move = {\n",
    "    'A': 'rock',\n",
    "    'B': 'paper',\n",
    "    'C': 'scissor',\n",
    "    'X': 'rock',\n",
    "    'Y': 'paper',\n",
    "    'Z': 'scissor'\n",
    "}\n",
    "\n",
    "beats = {\n",
    "    'scissor': 'paper',\n",
    "    'rock': 'scissor',\n",
    "    'paper':'rock'\n",
    "}\n",
    "\n",
    "move_scores = {\n",
    "    'rock':1,\n",
    "    'paper':2,\n",
    "    'scissor':3\n",
    "}\n",
    "\n",
    "result_scores = {\n",
    "    '1':0,\n",
    "    'X':3,\n",
    "    '2':6\n",
    "}\n",
    "\n",
    "def get_result(p1, p2):\n",
    "    p1 = move[p1]\n",
    "    p2 = move[p2]\n",
    "    \n",
    "    if p1 == p2:\n",
    "        return 'X'\n",
    "    if beats[p1] == p2:\n",
    "        return '1'\n",
    "    if beats[p2] == p1:\n",
    "        return '2'\n",
    "    \n",
    "def get_score(move, result):\n",
    "    return int(move_scores[move]) + int(result_scores[result])"
   ]
  },
  {
   "cell_type": "code",
   "execution_count": 105,
   "id": "8c85bc52",
   "metadata": {},
   "outputs": [
    {
     "data": {
      "text/plain": [
       "15337"
      ]
     },
     "execution_count": 105,
     "metadata": {},
     "output_type": "execute_result"
    }
   ],
   "source": [
    "my_scores = []\n",
    "for row in data:\n",
    "    p1, p2 = row\n",
    "    res = get_result(p1, p2)\n",
    "    p2 = move[p2]\n",
    "    ans = get_score(p2, res)\n",
    "    my_scores.append(ans)\n",
    "    \n",
    "\n",
    "import numpy as np\n",
    "np.sum(my_scores)"
   ]
  },
  {
   "cell_type": "markdown",
   "id": "2a975636",
   "metadata": {},
   "source": [
    "### Part 2"
   ]
  },
  {
   "cell_type": "code",
   "execution_count": 106,
   "id": "fb1bc642",
   "metadata": {},
   "outputs": [],
   "source": [
    "needed_move = {\n",
    "    'X':'lose',\n",
    "    'Y':'draw',\n",
    "    'Z': 'win'\n",
    "}\n",
    "\n",
    "decide_move = {\n",
    "    'lose': {'A':'C', 'B':'A', 'C':'B'},\n",
    "    'draw':{'A':'A', 'B':'B', 'C':'C'},\n",
    "    'win': {'A':'B', 'B':'C', 'C':'A'}\n",
    "}\n",
    "\n",
    "convert_move = {\n",
    "    'lose':'1',\n",
    "    'draw':'X',\n",
    "    'win':'2'\n",
    "}"
   ]
  },
  {
   "cell_type": "code",
   "execution_count": 107,
   "id": "1ffab75b",
   "metadata": {},
   "outputs": [
    {
     "data": {
      "text/plain": [
       "11696"
      ]
     },
     "execution_count": 107,
     "metadata": {},
     "output_type": "execute_result"
    }
   ],
   "source": [
    "my_scores = []\n",
    "for row in data:\n",
    "    p1, move_x = row\n",
    "    p2 = needed_move[move_x]\n",
    "    res = convert_move[p2]\n",
    "    p2 = decide_move[p2][p1]\n",
    "    p2 = move[p2]\n",
    "    ans = get_score(p2, res)\n",
    "    my_scores.append(ans)\n",
    "    \n",
    "np.sum(my_scores)"
   ]
  },
  {
   "cell_type": "code",
   "execution_count": null,
   "id": "5978080e",
   "metadata": {},
   "outputs": [],
   "source": []
  },
  {
   "cell_type": "code",
   "execution_count": null,
   "id": "ff7b6850",
   "metadata": {},
   "outputs": [],
   "source": []
  }
 ],
 "metadata": {
  "kernelspec": {
   "display_name": "Python 3 (ipykernel)",
   "language": "python",
   "name": "python3"
  },
  "language_info": {
   "codemirror_mode": {
    "name": "ipython",
    "version": 3
   },
   "file_extension": ".py",
   "mimetype": "text/x-python",
   "name": "python",
   "nbconvert_exporter": "python",
   "pygments_lexer": "ipython3",
   "version": "3.9.7"
  }
 },
 "nbformat": 4,
 "nbformat_minor": 5
}
