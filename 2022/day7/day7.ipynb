{
 "cells": [
  {
   "cell_type": "code",
   "execution_count": 21,
   "id": "351316e4",
   "metadata": {},
   "outputs": [],
   "source": [
    "data = []\n",
    "with open('test.in', 'r') as f:\n",
    "    for line in f.readlines():\n",
    "        data.append(line.strip())\n"
   ]
  },
  {
   "cell_type": "code",
   "execution_count": 22,
   "id": "6261ae13",
   "metadata": {},
   "outputs": [],
   "source": [
    "# Just find what each folder contains\n",
    "curr_dir = None\n",
    "history = []\n",
    "filesystem = {}\n",
    "for i, line in enumerate(data):\n",
    "    line = line.split()\n",
    "    if line[0] == '$' and line[1] == 'cd':\n",
    "        if line[2] != '..':\n",
    "            if line[2] == '/':\n",
    "                history = []\n",
    "            curr_dir = line[2]\n",
    "            history.append(line[2])\n",
    "        else:\n",
    "            history.pop()\n",
    "        \n",
    "    elif line[0] == '$' and line[1] == 'ls':\n",
    "        stuff = []\n",
    "        for inner in data[i+1:]:\n",
    "            inner = inner.split()\n",
    "            if len(inner)==3:\n",
    "                break\n",
    "            stuff.append((inner[0], inner[1]))\n",
    "        #print(f\"Folder '{curr_dir}'\\n Contains:{stuff}\")\n",
    "        \n",
    "        filesystem[curr_dir] = stuff\n",
    "\n",
    "import json\n",
    "#print(json.dumps(filesystem, indent=2))\n",
    "\n"
   ]
  },
  {
   "cell_type": "code",
   "execution_count": 23,
   "id": "77a4a6d2",
   "metadata": {},
   "outputs": [],
   "source": [
    "# Now we have all folders and what they contain\n",
    "\n",
    "size_of_folder = {}\n",
    "\n",
    "size_folder_all = {}\n",
    "\n",
    "for k, v in filesystem.items():\n",
    "    tot_size = 0\n",
    "    for item in v:\n",
    "        first, second = item\n",
    "        if first == 'dir':\n",
    "            # Look up that dir in the\n",
    "            # dict and find its size\n",
    "            pass\n",
    "        else:\n",
    "            tot_size += int(first)\n",
    "            \n",
    "    size_of_folder[k] = tot_size\n",
    "    \n",
    "\n",
    "for k, v in filesystem.items():\n",
    "    curr_dir = k\n",
    "    tot_size = 0\n",
    "    for item in v:\n",
    "        if item[0]=='dir':\n",
    "            tot_size += size_of_folder[item[1]] \n",
    "        else:\n",
    "            tot_size += int(item[0])\n",
    "    size_folder_all[curr_dir] = tot_size\n",
    "\n",
    "#print(json.dumps(size_folder_all, indent=2))\n",
    "            "
   ]
  },
  {
   "cell_type": "code",
   "execution_count": 24,
   "id": "3ad243f6",
   "metadata": {},
   "outputs": [
    {
     "name": "stdout",
     "output_type": "stream",
     "text": [
      "95437\n"
     ]
    }
   ],
   "source": [
    "tot_size = 0\n",
    "for k, v in size_folder_all.items():\n",
    "    if v <= 100_000:\n",
    "        tot_size += v\n",
    "print(tot_size)"
   ]
  }
 ],
 "metadata": {
  "kernelspec": {
   "display_name": "Python 3 (ipykernel)",
   "language": "python",
   "name": "python3"
  },
  "language_info": {
   "codemirror_mode": {
    "name": "ipython",
    "version": 3
   },
   "file_extension": ".py",
   "mimetype": "text/x-python",
   "name": "python",
   "nbconvert_exporter": "python",
   "pygments_lexer": "ipython3",
   "version": "3.9.7"
  },
  "vscode": {
   "interpreter": {
    "hash": "aee8b7b246df8f9039afb4144a1f6fd8d2ca17a180786b69acc140d282b71a49"
   }
  }
 },
 "nbformat": 4,
 "nbformat_minor": 5
}
