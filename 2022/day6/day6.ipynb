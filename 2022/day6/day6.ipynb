{
 "cells": [
  {
   "cell_type": "code",
   "execution_count": 104,
   "id": "d8385f0b",
   "metadata": {},
   "outputs": [],
   "source": [
    "with open('input.in','r') as f:\n",
    "    data = f.read().strip()"
   ]
  },
  {
   "cell_type": "code",
   "execution_count": 107,
   "id": "1b87b441",
   "metadata": {},
   "outputs": [
    {
     "name": "stdout",
     "output_type": "stream",
     "text": [
      "1757\n"
     ]
    }
   ],
   "source": [
    "buffer = [x for x in data[:4]]\n",
    "\n",
    "for i, ch in enumerate(data[1:]):\n",
    "    buffer.pop(0)\n",
    "    buffer.append(ch)\n",
    "    unique = set(buffer)\n",
    "    if len(unique)==4:\n",
    "        print(i+2)\n",
    "        break\n"
   ]
  },
  {
   "cell_type": "markdown",
   "id": "be49d114",
   "metadata": {},
   "source": [
    "# Part 2"
   ]
  },
  {
   "cell_type": "code",
   "execution_count": 108,
   "id": "2ad889d5",
   "metadata": {},
   "outputs": [
    {
     "name": "stdout",
     "output_type": "stream",
     "text": [
      "2950\n"
     ]
    }
   ],
   "source": [
    "buffer = [x for x in data[:14]]\n",
    "\n",
    "for i, ch in enumerate(data[1:]):\n",
    "    buffer.pop(0)\n",
    "    buffer.append(ch)\n",
    "    unique = set(buffer)\n",
    "    if len(unique)==14:\n",
    "        print(i+2)\n",
    "        break\n"
   ]
  },
  {
   "cell_type": "code",
   "execution_count": null,
   "id": "b97204b6",
   "metadata": {},
   "outputs": [],
   "source": []
  }
 ],
 "metadata": {
  "kernelspec": {
   "display_name": "Python 3 (ipykernel)",
   "language": "python",
   "name": "python3"
  },
  "language_info": {
   "codemirror_mode": {
    "name": "ipython",
    "version": 3
   },
   "file_extension": ".py",
   "mimetype": "text/x-python",
   "name": "python",
   "nbconvert_exporter": "python",
   "pygments_lexer": "ipython3",
   "version": "3.9.7"
  }
 },
 "nbformat": 4,
 "nbformat_minor": 5
}
