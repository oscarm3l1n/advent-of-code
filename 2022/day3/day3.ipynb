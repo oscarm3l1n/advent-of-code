{
 "cells": [
  {
   "cell_type": "code",
   "execution_count": 112,
   "id": "627b9458",
   "metadata": {},
   "outputs": [],
   "source": [
    "data = []\n",
    "with open('input.in', 'r') as f:\n",
    "    for line in f.readlines():\n",
    "        data.append(line.rstrip())"
   ]
  },
  {
   "cell_type": "code",
   "execution_count": 113,
   "id": "9cdc4c01",
   "metadata": {},
   "outputs": [],
   "source": [
    "ans = []\n",
    "for line in data:\n",
    "    half_size = int(len(line)/2)\n",
    "    left = line[:half_size]\n",
    "    right = line[half_size:]\n",
    "    for ch in left:\n",
    "        if ch in right:\n",
    "            ans.append(ch)\n",
    "            break"
   ]
  },
  {
   "cell_type": "code",
   "execution_count": 114,
   "id": "a0ed3fe0",
   "metadata": {},
   "outputs": [
    {
     "data": {
      "text/plain": [
       "7742"
      ]
     },
     "execution_count": 114,
     "metadata": {},
     "output_type": "execute_result"
    }
   ],
   "source": [
    "tot = 0\n",
    "for ch in ans:\n",
    "    tot += ord(ch) - 38 if ch.isupper() else ord(ch) - 96\n",
    "tot"
   ]
  },
  {
   "cell_type": "markdown",
   "id": "22355d7b",
   "metadata": {},
   "source": [
    "### part 2"
   ]
  },
  {
   "cell_type": "code",
   "execution_count": 116,
   "id": "661164bb",
   "metadata": {},
   "outputs": [
    {
     "data": {
      "text/plain": [
       "2276"
      ]
     },
     "execution_count": 116,
     "metadata": {},
     "output_type": "execute_result"
    }
   ],
   "source": [
    "badge = None\n",
    "total = 0\n",
    "for i in range(0, len(data), 3):\n",
    "    groups = data[i:i+3]\n",
    "    g1 = groups[0]\n",
    "    g2 = groups[1]\n",
    "    g3 = groups[2]\n",
    "    for ch in g2:\n",
    "        if ch in g1 and \\\n",
    "            ch in g2 and \\\n",
    "            ch in g3:\n",
    "            badge = ch\n",
    "            total += ord(ch) - 38 if ch.isupper() else ord(ch) - 96\n",
    "            break\n",
    "            \n",
    "total"
   ]
  },
  {
   "cell_type": "code",
   "execution_count": null,
   "id": "cd35035c",
   "metadata": {},
   "outputs": [],
   "source": []
  }
 ],
 "metadata": {
  "kernelspec": {
   "display_name": "Python 3 (ipykernel)",
   "language": "python",
   "name": "python3"
  },
  "language_info": {
   "codemirror_mode": {
    "name": "ipython",
    "version": 3
   },
   "file_extension": ".py",
   "mimetype": "text/x-python",
   "name": "python",
   "nbconvert_exporter": "python",
   "pygments_lexer": "ipython3",
   "version": "3.9.7"
  }
 },
 "nbformat": 4,
 "nbformat_minor": 5
}
